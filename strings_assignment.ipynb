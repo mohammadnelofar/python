{
 "cells": [
  {
   "cell_type": "markdown",
   "id": "c90d6e32",
   "metadata": {},
   "source": [
    "# 1 write the python program to convert a string to lower case"
   ]
  },
  {
   "cell_type": "code",
   "execution_count": 98,
   "id": "bb3a6566",
   "metadata": {},
   "outputs": [
    {
     "data": {
      "text/plain": [
       "'python programming'"
      ]
     },
     "execution_count": 98,
     "metadata": {},
     "output_type": "execute_result"
    }
   ],
   "source": [
    "s=\"python programming\"\n",
    "s.lower()"
   ]
  },
  {
   "cell_type": "markdown",
   "id": "602c9cb0",
   "metadata": {},
   "source": [
    "# 2 write a python program to convert only odd indexed characters to lower case "
   ]
  },
  {
   "cell_type": "code",
   "execution_count": 11,
   "id": "1efe5916",
   "metadata": {},
   "outputs": [
    {
     "data": {
      "text/plain": [
       "' PyThOn'"
      ]
     },
     "execution_count": 11,
     "metadata": {},
     "output_type": "execute_result"
    }
   ],
   "source": [
    "s=\"python\"\n",
    "n=\" \"\n",
    "for i in range(len(s)):\n",
    "    if i%2==0:\n",
    "        n=n+s[i].upper()\n",
    "    else:\n",
    "        n=n+s[i].lower()\n",
    "n"
   ]
  },
  {
   "cell_type": "markdown",
   "id": "6a6a9d4d",
   "metadata": {},
   "source": [
    "# 3 write a python program to convert only even indexed characters to lower case "
   ]
  },
  {
   "cell_type": "code",
   "execution_count": 15,
   "id": "3d7f6702",
   "metadata": {},
   "outputs": [
    {
     "data": {
      "text/plain": [
       "' pYtHoN'"
      ]
     },
     "execution_count": 15,
     "metadata": {},
     "output_type": "execute_result"
    }
   ],
   "source": [
    "s=\"python\"\n",
    "n=\" \"\n",
    "for i in range(len(s)):\n",
    "    if i%2==0:\n",
    "        n=n+s[i].lower()\n",
    "    else:\n",
    "        n=n+s[i].upper()\n",
    "n"
   ]
  },
  {
   "cell_type": "markdown",
   "id": "5de41ed7",
   "metadata": {},
   "source": [
    "# 4 write a python program to convert only odd indexed characters to upper case "
   ]
  },
  {
   "cell_type": "code",
   "execution_count": 16,
   "id": "38334c5f",
   "metadata": {},
   "outputs": [
    {
     "data": {
      "text/plain": [
       "' pYtHoN'"
      ]
     },
     "execution_count": 16,
     "metadata": {},
     "output_type": "execute_result"
    }
   ],
   "source": [
    "s=\"python\"\n",
    "n=\" \"\n",
    "for i in range(len(s)):\n",
    "    if i%2==0:\n",
    "        n=n+s[i].lower()\n",
    "    else:\n",
    "        n=n+s[i].upper()\n",
    "n"
   ]
  },
  {
   "cell_type": "markdown",
   "id": "ecfd8d38",
   "metadata": {},
   "source": [
    "# 5write a python program to convert only even indexed characters to upper case "
   ]
  },
  {
   "cell_type": "code",
   "execution_count": 17,
   "id": "54d28396",
   "metadata": {},
   "outputs": [
    {
     "data": {
      "text/plain": [
       "' PyThOn'"
      ]
     },
     "execution_count": 17,
     "metadata": {},
     "output_type": "execute_result"
    }
   ],
   "source": [
    "s=\"python\"\n",
    "n=\" \"\n",
    "for i in range(len(s)):\n",
    "    if i%2==0:\n",
    "        n=n+s[i].upper()\n",
    "    else:\n",
    "        n=n+s[i].lower()\n",
    "n"
   ]
  },
  {
   "cell_type": "markdown",
   "id": "b9c37037",
   "metadata": {},
   "source": [
    "# 6  write a python program where you have different variable which contains your name, gender,age,phonenumber,father's name and mother's name .and by using this variable create a variable named bio-data where you will use all this variable"
   ]
  },
  {
   "cell_type": "code",
   "execution_count": 36,
   "id": "f1fe1336",
   "metadata": {},
   "outputs": [
    {
     "name": "stdout",
     "output_type": "stream",
     "text": [
      "my name isnelofar,my genderisfemale,my ageis22,my phone_nois2390467220,my father_nameissardar, my mother_name iskhaja\n"
     ]
    }
   ],
   "source": [
    "name=\"nelofar\"\n",
    "gender=\"female\"\n",
    "age=\"22\"\n",
    "phone_no=\"2390467220\"\n",
    "father_name=\"sardar\"\n",
    "mother_name=\"khaja\"\n",
    "print(\"my name is{},my genderis{},my ageis{},my phone_nois{},my father_nameis{}, my mother_name is{}\".format(name,gender,age,phone_no,father_name,mother_name) )\n",
    "    "
   ]
  },
  {
   "cell_type": "markdown",
   "id": "32b3e9ee",
   "metadata": {},
   "source": [
    "# 7 write a python program to count how many times @ occured"
   ]
  },
  {
   "cell_type": "code",
   "execution_count": 43,
   "id": "bdbc3fb7",
   "metadata": {},
   "outputs": [
    {
     "data": {
      "text/plain": [
       "2"
      ]
     },
     "execution_count": 43,
     "metadata": {},
     "output_type": "execute_result"
    }
   ],
   "source": [
    "s=\"s@ndhy@\"\n",
    "s=s.count('@')\n",
    "s"
   ]
  },
  {
   "cell_type": "markdown",
   "id": "db1d0720",
   "metadata": {},
   "source": [
    "# 8 write a program to get only names from the string"
   ]
  },
  {
   "cell_type": "code",
   "execution_count": 74,
   "id": "16c2b1bb",
   "metadata": {},
   "outputs": [
    {
     "data": {
      "text/plain": [
       "'name1 ,name2 ,name3 '"
      ]
     },
     "execution_count": 74,
     "metadata": {},
     "output_type": "execute_result"
    }
   ],
   "source": [
    "s=\"name1.@gmail.com,name2.@gmail.com,name3.@gmail.com\"\n",
    "s=s.split(\".@gmail.com\")\n",
    "s=\" \".join(s)\n",
    "s"
   ]
  },
  {
   "cell_type": "markdown",
   "id": "aa13b57f",
   "metadata": {},
   "source": [
    "# 9  write a program to remove vowels from entire alphabets"
   ]
  },
  {
   "cell_type": "code",
   "execution_count": 79,
   "id": "00d6cd83",
   "metadata": {},
   "outputs": [
    {
     "name": "stdout",
     "output_type": "stream",
     "text": [
      "bcdfghjklmnpqrstvwxyz\n"
     ]
    }
   ],
   "source": [
    "string=\"abcdefghijklmnopqrstuvwxyz\"\n",
    "vowels=['a','e','i','o','u']\n",
    "result=\"\"\n",
    "for char in string:\n",
    "    if char not in vowels:\n",
    "        result=result+char\n",
    "print(result)"
   ]
  },
  {
   "cell_type": "markdown",
   "id": "000e263e",
   "metadata": {},
   "source": [
    "# 10 find all ocurrences of a sub stringnin agiven string by ignoring the case"
   ]
  },
  {
   "cell_type": "code",
   "execution_count": 96,
   "id": "8591db84",
   "metadata": {},
   "outputs": [
    {
     "data": {
      "text/plain": [
       "\"welcome to innomatics,innomatics awesome,isn't it?\""
      ]
     },
     "execution_count": 96,
     "metadata": {},
     "output_type": "execute_result"
    }
   ],
   "source": [
    "s=\"Welcome to Innomatics,innomatics awesome,isn't it?\"\n",
    "s1=s.lower()\n",
    "s1\n"
   ]
  },
  {
   "cell_type": "code",
   "execution_count": 97,
   "id": "45dda0ff",
   "metadata": {},
   "outputs": [
    {
     "data": {
      "text/plain": [
       "2"
      ]
     },
     "execution_count": 97,
     "metadata": {},
     "output_type": "execute_result"
    }
   ],
   "source": [
    "s1.count(\"innomatics\")"
   ]
  },
  {
   "cell_type": "code",
   "execution_count": null,
   "id": "8c5144a9",
   "metadata": {},
   "outputs": [],
   "source": []
  }
 ],
 "metadata": {
  "kernelspec": {
   "display_name": "Python 3 (ipykernel)",
   "language": "python",
   "name": "python3"
  },
  "language_info": {
   "codemirror_mode": {
    "name": "ipython",
    "version": 3
   },
   "file_extension": ".py",
   "mimetype": "text/x-python",
   "name": "python",
   "nbconvert_exporter": "python",
   "pygments_lexer": "ipython3",
   "version": "3.9.12"
  }
 },
 "nbformat": 4,
 "nbformat_minor": 5
}

{
 "cells": [
  {
   "cell_type": "code",
   "execution_count": 16,
   "id": "743e06f6",
   "metadata": {},
   "outputs": [],
   "source": [
    "#python program to sort the list of tuples in alphabetically"
   ]
  },
  {
   "cell_type": "code",
   "execution_count": 17,
   "id": "eaa90446",
   "metadata": {
    "scrolled": true
   },
   "outputs": [
    {
     "data": {
      "text/plain": [
       "[('aa', 30), ('aaaa', 28), ('bab', 29), ('bb', 21), ('bb', 29), ('csa', 'c')]"
      ]
     },
     "execution_count": 17,
     "metadata": {},
     "output_type": "execute_result"
    }
   ],
   "source": [
    "tuple=((\"aaaa\",28),(\"aa\",30),(\"bab\",29),(\"bb\",29),(\"bb\",21),(\"csa\",\"c\"))\n",
    "b=list(tuple)\n",
    "c=sorted(b)\n",
    "c"
   ]
  },
  {
   "cell_type": "code",
   "execution_count": 18,
   "id": "5103669a",
   "metadata": {},
   "outputs": [],
   "source": [
    "#find the elements frequency in tuple"
   ]
  },
  {
   "cell_type": "code",
   "execution_count": 66,
   "id": "c4cb3715",
   "metadata": {},
   "outputs": [
    {
     "data": {
      "text/plain": [
       "{4: 2, 5: 3, 6: 2}"
      ]
     },
     "execution_count": 66,
     "metadata": {},
     "output_type": "execute_result"
    }
   ],
   "source": [
    "e=(4,5,4,5,6,6,5)\n",
    "c={}\n",
    "for i in t:\n",
    "    c[i]=t.count(i)\n",
    "c"
   ]
  },
  {
   "cell_type": "code",
   "execution_count": 15,
   "id": "ad8cca85",
   "metadata": {},
   "outputs": [
    {
     "name": "stdout",
     "output_type": "stream",
     "text": [
      "(25.5, -18.0, 3.75)\n"
     ]
    }
   ],
   "source": [
    "#python program to calculate the avg value of the numbers in given tuple of tuple\n",
    "def average_tuple(v):\n",
    "    result = tuple(map(lambda x: sum(x) / float(len(x)), zip(*v)))\n",
    "    return result\n",
    "v=((1, 1, -5),(30, -15, 56),(81, -60, -39),(-10, 2, 3))\n",
    "print(average_tuple(v))\n"
   ]
  }
 ],
 "metadata": {
  "kernelspec": {
   "display_name": "Python 3 (ipykernel)",
   "language": "python",
   "name": "python3"
  },
  "language_info": {
   "codemirror_mode": {
    "name": "ipython",
    "version": 3
   },
   "file_extension": ".py",
   "mimetype": "text/x-python",
   "name": "python",
   "nbconvert_exporter": "python",
   "pygments_lexer": "ipython3",
   "version": "3.9.12"
  }
 },
 "nbformat": 4,
 "nbformat_minor": 5
}

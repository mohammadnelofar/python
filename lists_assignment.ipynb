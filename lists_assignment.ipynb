{
 "cells": [
  {
   "cell_type": "code",
   "execution_count": 1,
   "id": "cc97ec8f",
   "metadata": {},
   "outputs": [],
   "source": [
    "# to write a program addition all items and multipication"
   ]
  },
  {
   "cell_type": "code",
   "execution_count": 26,
   "id": "3df0f05e",
   "metadata": {},
   "outputs": [
    {
     "name": "stdout",
     "output_type": "stream",
     "text": [
      "sum and multiplication of all elements is: 14 120\n"
     ]
    }
   ],
   "source": [
    "l=[2,3,4,5]\n",
    "p=0\n",
    "q=1\n",
    "for i in range(0,len(l)):\n",
    "  p=p+l[i]\n",
    "  q=q*l[i]\n",
    "print(\"sum and multiplication of all elements is:\",p,q)\n"
   ]
  },
  {
   "cell_type": "code",
   "execution_count": 16,
   "id": "bf692c76",
   "metadata": {},
   "outputs": [],
   "source": [
    "#write a python program to compute the difference between 2 lists"
   ]
  },
  {
   "cell_type": "code",
   "execution_count": 25,
   "id": "f143d3f9",
   "metadata": {},
   "outputs": [
    {
     "name": "stdout",
     "output_type": "stream",
     "text": [
      "color1-color2 ['white', 'red', 'orange']\n",
      "color2-color1 ['black', 'yellow']\n"
     ]
    }
   ],
   "source": [
    "a=[\"red\",\"orange\",\"green\",\"blue\",\"white\"]\n",
    "b=[\"black\",\"yellow\",\"green\",\"blue\"]\n",
    "c=set(a)-set(b)\n",
    "d=list(c)\n",
    "d.reverse()\n",
    "print(\"color1-color2\",d)\n",
    "e=set(b)-set(a)\n",
    "f=list(e)\n",
    "print(\"color2-color1\",f)"
   ]
  },
  {
   "cell_type": "code",
   "execution_count": null,
   "id": "6fee07fa",
   "metadata": {},
   "outputs": [],
   "source": [
    "#write a python function that takes two lists and returns true if they atleast one common"
   ]
  },
  {
   "cell_type": "code",
   "execution_count": 22,
   "id": "a239a97f",
   "metadata": {},
   "outputs": [
    {
     "name": "stdout",
     "output_type": "stream",
     "text": [
      "True\n"
     ]
    }
   ],
   "source": [
    "l1=[1,2,3,4,5]\n",
    "l2=[5,6,7,8,9]\n",
    "for x in l1:\n",
    "    for y in l2:\n",
    "        if (x==y):\n",
    "            print(\"True\")\n",
    "        "
   ]
  },
  {
   "cell_type": "code",
   "execution_count": null,
   "id": "fc91d5ad",
   "metadata": {},
   "outputs": [],
   "source": []
  }
 ],
 "metadata": {
  "kernelspec": {
   "display_name": "Python 3 (ipykernel)",
   "language": "python",
   "name": "python3"
  },
  "language_info": {
   "codemirror_mode": {
    "name": "ipython",
    "version": 3
   },
   "file_extension": ".py",
   "mimetype": "text/x-python",
   "name": "python",
   "nbconvert_exporter": "python",
   "pygments_lexer": "ipython3",
   "version": "3.9.12"
  }
 },
 "nbformat": 4,
 "nbformat_minor": 5
}
